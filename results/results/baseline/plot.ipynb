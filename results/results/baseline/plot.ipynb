{
 "cells": [
  {
   "cell_type": "code",
   "execution_count": 43,
   "metadata": {},
   "outputs": [],
   "source": [
    "%matplotlib inline\n",
    "import os\n",
    "import matplotlib.pyplot as plt\n",
    "import seaborn as sns\n",
    "sns.set()\n",
    "import pandas as pd\n",
    "import numpy as np\n",
    "\n",
    "def plot(**keywords):\n",
    "    if keywords['plot_name']: # plot_nameがあったらグラフ保存モード\n",
    "        matplotlib.use('Agg')  # Needed to run without X-server\n",
    "    for fpath, label in zip(keywords['files'], keywords['labels']): \n",
    "        if os.path.isdir(fpath): #もしディレクトリなら\n",
    "            fpath = os.path.join(fpath, 'scores.txt') #その中のscores.txtをパスに\n",
    "        if not os.path.exists(fpath):\n",
    "            continue \n",
    "        scores = pd.read_csv(fpath, delimiter='\\t') #scores.txtの読み込み\n",
    "        plt.plot(scores[keywords['x']]*4, scores[keywords['y']], label=label) #スコアのプロット\n",
    "\n",
    "    plt.xlabel('Millions of Frames') #x軸ラベル\n",
    "    plt.ylabel(keywords['y'])#y軸ラベル\n",
    "    plt.legend() #凡例\n",
    "    if keywords['title']: \n",
    "        plt.title(keywords['title']) \n",
    "        \n",
    "    if keywords['plot_name']: # 保存モードのとき\n",
    "        fig_fname = keywords['plot_name'] + '.png' #png形式で保存\n",
    "        plt.savefig(fig_fname)\n",
    "        print('Saved a figure as {}'.format(fig_fname))\n",
    "    \n",
    "    plt.xticks(np.arange(0, 4*10**7+1, 10**7), labels=[str(i) for i in range(0, 41, 10)])"
   ]
  },
  {
   "cell_type": "code",
   "execution_count": 67,
   "metadata": {},
   "outputs": [],
   "source": [
    "rand_seeds = [123, 240, 456]\n",
    "def plots(game, double, x, y):\n",
    "    names = [f'{game}{\"_double\" * double}_{seed}' for seed in rand_seeds]\n",
    "    plot(title=game, files=names, labels=rand_seeds,\n",
    "             x=x, y=y, plot_name=None)\n",
    "    plt.show() #画像表示"
   ]
  },
  {
   "cell_type": "code",
   "execution_count": 68,
   "metadata": {},
   "outputs": [
    {
     "data": {
      "application/vnd.jupyter.widget-view+json": {
       "model_id": "a267440b060c4cb3996e2cddbfc57fbc",
       "version_major": 2,
       "version_minor": 0
      },
      "text/plain": [
       "interactive(children=(Dropdown(description='game', options=('Qbert', 'MsPacman', 'Hero', 'Pong', 'TimePilot', …"
      ]
     },
     "metadata": {},
     "output_type": "display_data"
    },
    {
     "data": {
      "text/plain": [
       "<function __main__.plots(game, double, x, y)>"
      ]
     },
     "execution_count": 68,
     "metadata": {},
     "output_type": "execute_result"
    }
   ],
   "source": [
    "from ipywidgets import interact\n",
    "\n",
    "interact(plots, game=[\"Qbert\", \"MsPacman\", \"Pong\", \"TimePilot\", \"Alien\", \"Hero\"], \n",
    "         double=True, x=['steps'], y=['mean', 'max', 'average_q', 'average_loss'])"
   ]
  },
  {
   "cell_type": "code",
   "execution_count": null,
   "metadata": {},
   "outputs": [],
   "source": []
  }
 ],
 "metadata": {
  "kernelspec": {
   "display_name": "NEC-chainer",
   "language": "python",
   "name": "nec"
  },
  "language_info": {
   "codemirror_mode": {
    "name": "ipython",
    "version": 3
   },
   "file_extension": ".py",
   "mimetype": "text/x-python",
   "name": "python",
   "nbconvert_exporter": "python",
   "pygments_lexer": "ipython3",
   "version": "3.6.0"
  }
 },
 "nbformat": 4,
 "nbformat_minor": 2
}
